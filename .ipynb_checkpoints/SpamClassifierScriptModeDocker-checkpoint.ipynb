{
 "cells": [
  {
   "cell_type": "code",
   "execution_count": 17,
   "metadata": {},
   "outputs": [
    {
     "name": "stdout",
     "output_type": "stream",
     "text": [
      "540748271236\n",
      "us-east-1\n",
      "arn:aws:iam::540748271236:role/service-role/AmazonSageMaker-ExecutionRole-20200831T143512\n",
      "sagemaker-test-raghavbps\n"
     ]
    }
   ],
   "source": [
    "import boto3\n",
    "import sagemaker\n",
    "from sagemaker import get_execution_role\n",
    "\n",
    "ecr_namespace = 'sagemaker-training-containers/'\n",
    "prefix = 'script-mode-container'\n",
    "\n",
    "ecr_repository_name = ecr_namespace + prefix\n",
    "role = get_execution_role()\n",
    "account_id = role.split(':')[4]\n",
    "region = boto3.Session().region_name\n",
    "bucket = 'sagemaker-test-raghavbps'\n",
    "sagemaker_session = sagemaker.session.Session(default_bucket=bucket)\n",
    "\n",
    "print(account_id)\n",
    "print(region)\n",
    "print(role)\n",
    "print(bucket)"
   ]
  },
  {
   "cell_type": "code",
   "execution_count": 6,
   "metadata": {},
   "outputs": [
    {
     "name": "stdout",
     "output_type": "stream",
     "text": [
      "\u001b[31mACCOUNT_ID\u001b[39;49;00m=\u001b[31m$1\u001b[39;49;00m\n",
      "\u001b[31mREGION\u001b[39;49;00m=\u001b[31m$2\u001b[39;49;00m\n",
      "\u001b[31mREPO_NAME\u001b[39;49;00m=\u001b[31m$3\u001b[39;49;00m\n",
      "\n",
      "docker build -f ../docker/Dockerfile -t \u001b[31m$REPO_NAME\u001b[39;49;00m ../docker\n",
      "\n",
      "docker tag \u001b[31m$REPO_NAME\u001b[39;49;00m \u001b[31m$ACCOUNT_ID\u001b[39;49;00m.dkr.ecr.\u001b[31m$REGION\u001b[39;49;00m.amazonaws.com/\u001b[31m$REPO_NAME\u001b[39;49;00m:latest\n",
      "\n",
      "\u001b[34m$(\u001b[39;49;00maws ecr get-login --no-include-email --registry-ids \u001b[31m$ACCOUNT_ID\u001b[39;49;00m\u001b[34m)\u001b[39;49;00m\n",
      "\n",
      "aws ecr describe-repositories --repository-names \u001b[31m$REPO_NAME\u001b[39;49;00m || aws ecr create-repository --repository-name \u001b[31m$REPO_NAME\u001b[39;49;00m\n",
      "\n",
      "docker push \u001b[31m$ACCOUNT_ID\u001b[39;49;00m.dkr.ecr.\u001b[31m$REGION\u001b[39;49;00m.amazonaws.com/\u001b[31m$REPO_NAME\u001b[39;49;00m:latest\n"
     ]
    }
   ],
   "source": [
    "! pygmentize ./scripts/build_and_push.sh"
   ]
  },
  {
   "cell_type": "code",
   "execution_count": 11,
   "metadata": {},
   "outputs": [],
   "source": [
    "%%capture\n",
    "! ./scripts/build_and_push.sh 540748271236 us-east-1 sagemaker-training-containers/script-mode-container"
   ]
  },
  {
   "cell_type": "code",
   "execution_count": 12,
   "metadata": {},
   "outputs": [
    {
     "name": "stdout",
     "output_type": "stream",
     "text": [
      "540748271236.dkr.ecr.us-east-1.amazonaws.com/sagemaker-training-containers/script-mode-container:latest\n"
     ]
    }
   ],
   "source": [
    "container_image_uri = '{0}.dkr.ecr.{1}.amazonaws.com/{2}:latest'.format(account_id, region, ecr_repository_name)\n",
    "print(container_image_uri)"
   ]
  },
  {
   "cell_type": "code",
   "execution_count": 13,
   "metadata": {},
   "outputs": [
    {
     "name": "stdout",
     "output_type": "stream",
     "text": [
      "s3://sagemaker-test-raghavbps/script-mode-container/train/dummy.csv\n",
      "s3://sagemaker-test-raghavbps/script-mode-container/val/dummy.csv\n"
     ]
    }
   ],
   "source": [
    "! echo \"val1, val2, val3\" > dummy.csv\n",
    "print(sagemaker_session.upload_data('dummy.csv', bucket, prefix + '/train'))\n",
    "print(sagemaker_session.upload_data('dummy.csv', bucket, prefix + '/val'))\n",
    "! rm dummy.csv"
   ]
  },
  {
   "cell_type": "code",
   "execution_count": 22,
   "metadata": {},
   "outputs": [
    {
     "name": "stderr",
     "output_type": "stream",
     "text": [
      "Parameter image_name will be renamed to image_uri in SageMaker Python SDK v2.\n",
      "'s3_input' class will be renamed to 'TrainingInput' in SageMaker Python SDK v2.\n",
      "'s3_input' class will be renamed to 'TrainingInput' in SageMaker Python SDK v2.\n"
     ]
    },
    {
     "name": "stdout",
     "output_type": "stream",
     "text": [
      "Creating tmpnhvun22t_algo-1-j5hzy_1 ... \n",
      "\u001b[1BAttaching to tmpnhvun22t_algo-1-j5hzy_12mdone\u001b[0m\n",
      "\u001b[36malgo-1-j5hzy_1  |\u001b[0m 2020-09-13 19:10:37,157 sagemaker-training-toolkit INFO     No GPUs detected (normal if no gpus installed)\n",
      "\u001b[36malgo-1-j5hzy_1  |\u001b[0m 2020-09-13 19:10:37,177 sagemaker-training-toolkit INFO     No GPUs detected (normal if no gpus installed)\n",
      "\u001b[36malgo-1-j5hzy_1  |\u001b[0m 2020-09-13 19:10:37,192 sagemaker-training-toolkit INFO     No GPUs detected (normal if no gpus installed)\n",
      "\u001b[36malgo-1-j5hzy_1  |\u001b[0m 2020-09-13 19:10:37,206 sagemaker-training-toolkit INFO     Invoking user script\n",
      "\u001b[36malgo-1-j5hzy_1  |\u001b[0m \n",
      "\u001b[36malgo-1-j5hzy_1  |\u001b[0m Training Env:\n",
      "\u001b[36malgo-1-j5hzy_1  |\u001b[0m \n",
      "\u001b[36malgo-1-j5hzy_1  |\u001b[0m {\n",
      "\u001b[36malgo-1-j5hzy_1  |\u001b[0m     \"additional_framework_parameters\": {},\n",
      "\u001b[36malgo-1-j5hzy_1  |\u001b[0m     \"channel_input_dirs\": {\n",
      "\u001b[36malgo-1-j5hzy_1  |\u001b[0m         \"train\": \"/opt/ml/input/data/train\",\n",
      "\u001b[36malgo-1-j5hzy_1  |\u001b[0m         \"validation\": \"/opt/ml/input/data/validation\"\n",
      "\u001b[36malgo-1-j5hzy_1  |\u001b[0m     },\n",
      "\u001b[36malgo-1-j5hzy_1  |\u001b[0m     \"current_host\": \"algo-1-j5hzy\",\n",
      "\u001b[36malgo-1-j5hzy_1  |\u001b[0m     \"framework_module\": null,\n",
      "\u001b[36malgo-1-j5hzy_1  |\u001b[0m     \"hosts\": [\n",
      "\u001b[36malgo-1-j5hzy_1  |\u001b[0m         \"algo-1-j5hzy\"\n",
      "\u001b[36malgo-1-j5hzy_1  |\u001b[0m     ],\n",
      "\u001b[36malgo-1-j5hzy_1  |\u001b[0m     \"hyperparameters\": {\n",
      "\u001b[36malgo-1-j5hzy_1  |\u001b[0m         \"hp1\": \"value1\",\n",
      "\u001b[36malgo-1-j5hzy_1  |\u001b[0m         \"hp2\": 300,\n",
      "\u001b[36malgo-1-j5hzy_1  |\u001b[0m         \"hp3\": 0.001\n",
      "\u001b[36malgo-1-j5hzy_1  |\u001b[0m     },\n",
      "\u001b[36malgo-1-j5hzy_1  |\u001b[0m     \"input_config_dir\": \"/opt/ml/input/config\",\n",
      "\u001b[36malgo-1-j5hzy_1  |\u001b[0m     \"input_data_config\": {\n",
      "\u001b[36malgo-1-j5hzy_1  |\u001b[0m         \"train\": {\n",
      "\u001b[36malgo-1-j5hzy_1  |\u001b[0m             \"TrainingInputMode\": \"File\",\n",
      "\u001b[36malgo-1-j5hzy_1  |\u001b[0m             \"ContentType\": \"text/csv\"\n",
      "\u001b[36malgo-1-j5hzy_1  |\u001b[0m         },\n",
      "\u001b[36malgo-1-j5hzy_1  |\u001b[0m         \"validation\": {\n",
      "\u001b[36malgo-1-j5hzy_1  |\u001b[0m             \"TrainingInputMode\": \"File\",\n",
      "\u001b[36malgo-1-j5hzy_1  |\u001b[0m             \"ContentType\": \"text/csv\"\n",
      "\u001b[36malgo-1-j5hzy_1  |\u001b[0m         }\n",
      "\u001b[36malgo-1-j5hzy_1  |\u001b[0m     },\n",
      "\u001b[36malgo-1-j5hzy_1  |\u001b[0m     \"input_dir\": \"/opt/ml/input\",\n",
      "\u001b[36malgo-1-j5hzy_1  |\u001b[0m     \"is_master\": true,\n",
      "\u001b[36malgo-1-j5hzy_1  |\u001b[0m     \"job_name\": \"script-mode-container-2020-09-13-19-10-32-718\",\n",
      "\u001b[36malgo-1-j5hzy_1  |\u001b[0m     \"log_level\": 20,\n",
      "\u001b[36malgo-1-j5hzy_1  |\u001b[0m     \"master_hostname\": \"algo-1-j5hzy\",\n",
      "\u001b[36malgo-1-j5hzy_1  |\u001b[0m     \"model_dir\": \"/opt/ml/model\",\n",
      "\u001b[36malgo-1-j5hzy_1  |\u001b[0m     \"module_dir\": \"/opt/ml/code\",\n",
      "\u001b[36malgo-1-j5hzy_1  |\u001b[0m     \"module_name\": \"train\",\n",
      "\u001b[36malgo-1-j5hzy_1  |\u001b[0m     \"network_interface_name\": \"eth0\",\n",
      "\u001b[36malgo-1-j5hzy_1  |\u001b[0m     \"num_cpus\": 2,\n",
      "\u001b[36malgo-1-j5hzy_1  |\u001b[0m     \"num_gpus\": 0,\n",
      "\u001b[36malgo-1-j5hzy_1  |\u001b[0m     \"output_data_dir\": \"/opt/ml/output/data\",\n",
      "\u001b[36malgo-1-j5hzy_1  |\u001b[0m     \"output_dir\": \"/opt/ml/output\",\n",
      "\u001b[36malgo-1-j5hzy_1  |\u001b[0m     \"output_intermediate_dir\": \"/opt/ml/output/intermediate\",\n",
      "\u001b[36malgo-1-j5hzy_1  |\u001b[0m     \"resource_config\": {\n",
      "\u001b[36malgo-1-j5hzy_1  |\u001b[0m         \"current_host\": \"algo-1-j5hzy\",\n",
      "\u001b[36malgo-1-j5hzy_1  |\u001b[0m         \"hosts\": [\n",
      "\u001b[36malgo-1-j5hzy_1  |\u001b[0m             \"algo-1-j5hzy\"\n",
      "\u001b[36malgo-1-j5hzy_1  |\u001b[0m         ]\n",
      "\u001b[36malgo-1-j5hzy_1  |\u001b[0m     },\n",
      "\u001b[36malgo-1-j5hzy_1  |\u001b[0m     \"user_entry_point\": \"train.py\"\n",
      "\u001b[36malgo-1-j5hzy_1  |\u001b[0m }\n",
      "\u001b[36malgo-1-j5hzy_1  |\u001b[0m \n",
      "\u001b[36malgo-1-j5hzy_1  |\u001b[0m Environment variables:\n",
      "\u001b[36malgo-1-j5hzy_1  |\u001b[0m \n",
      "\u001b[36malgo-1-j5hzy_1  |\u001b[0m SM_HOSTS=[\"algo-1-j5hzy\"]\n",
      "\u001b[36malgo-1-j5hzy_1  |\u001b[0m SM_NETWORK_INTERFACE_NAME=eth0\n",
      "\u001b[36malgo-1-j5hzy_1  |\u001b[0m SM_HPS={\"hp1\":\"value1\",\"hp2\":300,\"hp3\":0.001}\n",
      "\u001b[36malgo-1-j5hzy_1  |\u001b[0m SM_USER_ENTRY_POINT=train.py\n",
      "\u001b[36malgo-1-j5hzy_1  |\u001b[0m SM_FRAMEWORK_PARAMS={}\n",
      "\u001b[36malgo-1-j5hzy_1  |\u001b[0m SM_RESOURCE_CONFIG={\"current_host\":\"algo-1-j5hzy\",\"hosts\":[\"algo-1-j5hzy\"]}\n",
      "\u001b[36malgo-1-j5hzy_1  |\u001b[0m SM_INPUT_DATA_CONFIG={\"train\":{\"ContentType\":\"text/csv\",\"TrainingInputMode\":\"File\"},\"validation\":{\"ContentType\":\"text/csv\",\"TrainingInputMode\":\"File\"}}\n",
      "\u001b[36malgo-1-j5hzy_1  |\u001b[0m SM_OUTPUT_DATA_DIR=/opt/ml/output/data\n",
      "\u001b[36malgo-1-j5hzy_1  |\u001b[0m SM_CHANNELS=[\"train\",\"validation\"]\n",
      "\u001b[36malgo-1-j5hzy_1  |\u001b[0m SM_CURRENT_HOST=algo-1-j5hzy\n",
      "\u001b[36malgo-1-j5hzy_1  |\u001b[0m SM_MODULE_NAME=train\n",
      "\u001b[36malgo-1-j5hzy_1  |\u001b[0m SM_LOG_LEVEL=20\n",
      "\u001b[36malgo-1-j5hzy_1  |\u001b[0m SM_FRAMEWORK_MODULE=\n",
      "\u001b[36malgo-1-j5hzy_1  |\u001b[0m SM_INPUT_DIR=/opt/ml/input\n",
      "\u001b[36malgo-1-j5hzy_1  |\u001b[0m SM_INPUT_CONFIG_DIR=/opt/ml/input/config\n",
      "\u001b[36malgo-1-j5hzy_1  |\u001b[0m SM_OUTPUT_DIR=/opt/ml/output\n",
      "\u001b[36malgo-1-j5hzy_1  |\u001b[0m SM_NUM_CPUS=2\n",
      "\u001b[36malgo-1-j5hzy_1  |\u001b[0m SM_NUM_GPUS=0\n",
      "\u001b[36malgo-1-j5hzy_1  |\u001b[0m SM_MODEL_DIR=/opt/ml/model\n",
      "\u001b[36malgo-1-j5hzy_1  |\u001b[0m SM_MODULE_DIR=/opt/ml/code\n",
      "\u001b[36malgo-1-j5hzy_1  |\u001b[0m SM_TRAINING_ENV={\"additional_framework_parameters\":{},\"channel_input_dirs\":{\"train\":\"/opt/ml/input/data/train\",\"validation\":\"/opt/ml/input/data/validation\"},\"current_host\":\"algo-1-j5hzy\",\"framework_module\":null,\"hosts\":[\"algo-1-j5hzy\"],\"hyperparameters\":{\"hp1\":\"value1\",\"hp2\":300,\"hp3\":0.001},\"input_config_dir\":\"/opt/ml/input/config\",\"input_data_config\":{\"train\":{\"ContentType\":\"text/csv\",\"TrainingInputMode\":\"File\"},\"validation\":{\"ContentType\":\"text/csv\",\"TrainingInputMode\":\"File\"}},\"input_dir\":\"/opt/ml/input\",\"is_master\":true,\"job_name\":\"script-mode-container-2020-09-13-19-10-32-718\",\"log_level\":20,\"master_hostname\":\"algo-1-j5hzy\",\"model_dir\":\"/opt/ml/model\",\"module_dir\":\"/opt/ml/code\",\"module_name\":\"train\",\"network_interface_name\":\"eth0\",\"num_cpus\":2,\"num_gpus\":0,\"output_data_dir\":\"/opt/ml/output/data\",\"output_dir\":\"/opt/ml/output\",\"output_intermediate_dir\":\"/opt/ml/output/intermediate\",\"resource_config\":{\"current_host\":\"algo-1-j5hzy\",\"hosts\":[\"algo-1-j5hzy\"]},\"user_entry_point\":\"train.py\"}\n",
      "\u001b[36malgo-1-j5hzy_1  |\u001b[0m SM_USER_ARGS=[\"--hp1\",\"value1\",\"--hp2\",\"300\",\"--hp3\",\"0.001\"]\n",
      "\u001b[36malgo-1-j5hzy_1  |\u001b[0m SM_OUTPUT_INTERMEDIATE_DIR=/opt/ml/output/intermediate\n",
      "\u001b[36malgo-1-j5hzy_1  |\u001b[0m SM_CHANNEL_TRAIN=/opt/ml/input/data/train\n",
      "\u001b[36malgo-1-j5hzy_1  |\u001b[0m SM_CHANNEL_VALIDATION=/opt/ml/input/data/validation\n",
      "\u001b[36malgo-1-j5hzy_1  |\u001b[0m SM_HP_HP1=value1\n",
      "\u001b[36malgo-1-j5hzy_1  |\u001b[0m SM_HP_HP2=300\n",
      "\u001b[36malgo-1-j5hzy_1  |\u001b[0m SM_HP_HP3=0.001\n",
      "\u001b[36malgo-1-j5hzy_1  |\u001b[0m PYTHONPATH=/opt/ml/code:/usr/local/bin:/usr/local/lib/python36.zip:/usr/local/lib/python3.6:/usr/local/lib/python3.6/lib-dynload:/usr/local/lib/python3.6/site-packages\n",
      "\u001b[36malgo-1-j5hzy_1  |\u001b[0m \n",
      "\u001b[36malgo-1-j5hzy_1  |\u001b[0m Invoking script with the following command:\n",
      "\u001b[36malgo-1-j5hzy_1  |\u001b[0m \n",
      "\u001b[36malgo-1-j5hzy_1  |\u001b[0m /usr/local/bin/python3.6 train.py --hp1 value1 --hp2 300 --hp3 0.001\n",
      "\u001b[36malgo-1-j5hzy_1  |\u001b[0m \n",
      "\u001b[36malgo-1-j5hzy_1  |\u001b[0m \n",
      "\u001b[36malgo-1-j5hzy_1  |\u001b[0m \n",
      "\u001b[36malgo-1-j5hzy_1  |\u001b[0m List of files in train channel: \n",
      "\u001b[36malgo-1-j5hzy_1  |\u001b[0m /opt/ml/input/data/train/dummy.csv\n",
      "\u001b[36malgo-1-j5hzy_1  |\u001b[0m \n",
      "\u001b[36malgo-1-j5hzy_1  |\u001b[0m List of files in validation channel: \n",
      "\u001b[36malgo-1-j5hzy_1  |\u001b[0m /opt/ml/input/data/validation/dummy.csv\n",
      "\u001b[36malgo-1-j5hzy_1  |\u001b[0m \n",
      "\u001b[36malgo-1-j5hzy_1  |\u001b[0m Running epoch 0...\n",
      "\u001b[36malgo-1-j5hzy_1  |\u001b[0m Completed epoch 0.\n",
      "\u001b[36malgo-1-j5hzy_1  |\u001b[0m \n",
      "\u001b[36malgo-1-j5hzy_1  |\u001b[0m Running epoch 1...\n",
      "\u001b[36malgo-1-j5hzy_1  |\u001b[0m Completed epoch 1.\n",
      "\u001b[36malgo-1-j5hzy_1  |\u001b[0m \n",
      "\u001b[36malgo-1-j5hzy_1  |\u001b[0m Running epoch 2...\n",
      "\u001b[36malgo-1-j5hzy_1  |\u001b[0m Completed epoch 2.\n",
      "\u001b[36malgo-1-j5hzy_1  |\u001b[0m \n",
      "\u001b[36malgo-1-j5hzy_1  |\u001b[0m Running epoch 3...\n",
      "\u001b[36malgo-1-j5hzy_1  |\u001b[0m Completed epoch 3.\n",
      "\u001b[36malgo-1-j5hzy_1  |\u001b[0m \n",
      "\u001b[36malgo-1-j5hzy_1  |\u001b[0m Running epoch 4...\n",
      "\u001b[36malgo-1-j5hzy_1  |\u001b[0m Completed epoch 4.\n",
      "\u001b[36malgo-1-j5hzy_1  |\u001b[0m 2020-09-13 19:10:37,256 sagemaker-training-toolkit INFO     Reporting training SUCCESS\n",
      "\u001b[36mtmpnhvun22t_algo-1-j5hzy_1 exited with code 0\n",
      "\u001b[0mAborting on container exit...\n",
      "===== Job Complete =====\n"
     ]
    }
   ],
   "source": [
    "import sagemaker\n",
    "import json\n",
    "\n",
    "# JSON encode hyperparameters\n",
    "def json_encode_hyperparameters(hyperparameters):\n",
    "    return {str(k): json.dumps(v) for (k, v) in hyperparameters.items()}\n",
    "\n",
    "hyperparameters = json_encode_hyperparameters({\n",
    "    \"hp1\": \"value1\",\n",
    "    \"hp2\": 300,\n",
    "    \"hp3\": 0.001})\n",
    "\n",
    "est = sagemaker.estimator.Estimator(container_image_uri,\n",
    "                                    role, \n",
    "                                    train_instance_count=1, \n",
    "                                    train_instance_type='local', # we use local mode\n",
    "                                    #train_instance_type='ml.m5.xlarge',\n",
    "                                    base_job_name=prefix,\n",
    "                                    output_path='s3://sagemaker-test-raghavbps/script-mode-container/',\n",
    "                                    hyperparameters=hyperparameters)\n",
    "\n",
    "train_config = sagemaker.session.s3_input('s3://{0}/{1}/train/'.format(bucket, prefix), content_type='text/csv')\n",
    "val_config = sagemaker.session.s3_input('s3://{0}/{1}/val/'.format(bucket, prefix), content_type='text/csv')\n",
    "\n",
    "est.fit({'train': train_config, 'validation': val_config })"
   ]
  },
  {
   "cell_type": "code",
   "execution_count": null,
   "metadata": {},
   "outputs": [],
   "source": []
  }
 ],
 "metadata": {
  "kernelspec": {
   "display_name": "conda_tensorflow2_p36",
   "language": "python",
   "name": "conda_tensorflow2_p36"
  },
  "language_info": {
   "codemirror_mode": {
    "name": "ipython",
    "version": 3
   },
   "file_extension": ".py",
   "mimetype": "text/x-python",
   "name": "python",
   "nbconvert_exporter": "python",
   "pygments_lexer": "ipython3",
   "version": "3.6.10"
  }
 },
 "nbformat": 4,
 "nbformat_minor": 4
}
