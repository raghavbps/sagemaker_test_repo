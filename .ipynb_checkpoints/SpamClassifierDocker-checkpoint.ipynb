{
 "cells": [
  {
   "cell_type": "code",
   "execution_count": 1,
   "metadata": {},
   "outputs": [
    {
     "name": "stdout",
     "output_type": "stream",
     "text": [
      "540748271236\n",
      "us-east-1\n",
      "arn:aws:iam::540748271236:role/service-role/AmazonSageMaker-ExecutionRole-20200831T143512\n",
      "sagemaker-test-raghavbps\n"
     ]
    }
   ],
   "source": [
    "import boto3\n",
    "import sagemaker\n",
    "from sagemaker import get_execution_role\n",
    "\n",
    "ecr_repository_name = 'sagemaker-spam-classifier-nn'\n",
    "prefix = 'script-mode-container'\n",
    "role = get_execution_role()\n",
    "account_id = role.split(':')[4]\n",
    "region = boto3.Session().region_name\n",
    "bucket = 'sagemaker-test-raghavbps'\n",
    "sagemaker_session = sagemaker.session.Session(default_bucket=bucket)\n",
    "\n",
    "print(account_id)\n",
    "print(region)\n",
    "print(role)\n",
    "print(bucket)"
   ]
  },
  {
   "cell_type": "code",
   "execution_count": 2,
   "metadata": {},
   "outputs": [
    {
     "name": "stdout",
     "output_type": "stream",
     "text": [
      "540748271236.dkr.ecr.us-east-1.amazonaws.com/sagemaker-spam-classifier-nn:latest\n"
     ]
    }
   ],
   "source": [
    "container_image_uri = '{0}.dkr.ecr.{1}.amazonaws.com/{2}:latest'.format(account_id, region, ecr_repository_name)\n",
    "print(container_image_uri)"
   ]
  },
  {
   "cell_type": "code",
   "execution_count": 3,
   "metadata": {},
   "outputs": [
    {
     "name": "stderr",
     "output_type": "stream",
     "text": [
      "Parameter image_name will be renamed to image_uri in SageMaker Python SDK v2.\n",
      "'s3_input' class will be renamed to 'TrainingInput' in SageMaker Python SDK v2.\n",
      "'s3_input' class will be renamed to 'TrainingInput' in SageMaker Python SDK v2.\n"
     ]
    },
    {
     "name": "stdout",
     "output_type": "stream",
     "text": [
      "Creating tmpdyqp_l3t_algo-1-rlkze_1 ... \n",
      "\u001b[1BAttaching to tmpdyqp_l3t_algo-1-rlkze_12mdone\u001b[0m\n",
      "\u001b[36malgo-1-rlkze_1  |\u001b[0m 2020-09-15 07:45:50,510 sagemaker-training-toolkit INFO     Installing dependencies from requirements.txt:\n",
      "\u001b[36malgo-1-rlkze_1  |\u001b[0m /usr/bin/python3 -m pip install -r requirements.txt\n",
      "\u001b[36malgo-1-rlkze_1  |\u001b[0m Requirement already satisfied: tensorflow-hub==0.9.0 in /usr/local/lib/python3.6/dist-packages (from -r requirements.txt (line 1)) (0.9.0)\n",
      "\u001b[36malgo-1-rlkze_1  |\u001b[0m Requirement already satisfied: numpy>=1.12.0 in /usr/local/lib/python3.6/dist-packages (from tensorflow-hub==0.9.0->-r requirements.txt (line 1)) (1.18.5)\n",
      "\u001b[36malgo-1-rlkze_1  |\u001b[0m Requirement already satisfied: protobuf>=3.8.0 in /usr/local/lib/python3.6/dist-packages (from tensorflow-hub==0.9.0->-r requirements.txt (line 1)) (3.12.2)\n",
      "\u001b[36malgo-1-rlkze_1  |\u001b[0m Requirement already satisfied: six>=1.12.0 in /usr/local/lib/python3.6/dist-packages (from tensorflow-hub==0.9.0->-r requirements.txt (line 1)) (1.15.0)\n",
      "\u001b[36malgo-1-rlkze_1  |\u001b[0m Requirement already satisfied: setuptools in /usr/local/lib/python3.6/dist-packages (from protobuf>=3.8.0->tensorflow-hub==0.9.0->-r requirements.txt (line 1)) (47.3.1)\n",
      "\u001b[36malgo-1-rlkze_1  |\u001b[0m \u001b[33mWARNING: You are using pip version 20.1.1; however, version 20.2.3 is available.\n",
      "\u001b[36malgo-1-rlkze_1  |\u001b[0m You should consider upgrading via the '/usr/bin/python3 -m pip install --upgrade pip' command.\u001b[0m\n",
      "\u001b[36malgo-1-rlkze_1  |\u001b[0m 2020-09-15 07:45:51,604 sagemaker-training-toolkit INFO     No GPUs detected (normal if no gpus installed)\n",
      "\u001b[36malgo-1-rlkze_1  |\u001b[0m 2020-09-15 07:45:51,620 sagemaker-training-toolkit INFO     No GPUs detected (normal if no gpus installed)\n",
      "\u001b[36malgo-1-rlkze_1  |\u001b[0m 2020-09-15 07:45:51,632 sagemaker-training-toolkit INFO     No GPUs detected (normal if no gpus installed)\n",
      "\u001b[36malgo-1-rlkze_1  |\u001b[0m 2020-09-15 07:45:51,644 sagemaker-training-toolkit INFO     Invoking user script\n",
      "\u001b[36malgo-1-rlkze_1  |\u001b[0m \n",
      "\u001b[36malgo-1-rlkze_1  |\u001b[0m Training Env:\n",
      "\u001b[36malgo-1-rlkze_1  |\u001b[0m \n",
      "\u001b[36malgo-1-rlkze_1  |\u001b[0m {\n",
      "\u001b[36malgo-1-rlkze_1  |\u001b[0m     \"additional_framework_parameters\": {},\n",
      "\u001b[36malgo-1-rlkze_1  |\u001b[0m     \"channel_input_dirs\": {\n",
      "\u001b[36malgo-1-rlkze_1  |\u001b[0m         \"train\": \"/opt/ml/input/data/train\",\n",
      "\u001b[36malgo-1-rlkze_1  |\u001b[0m         \"validation\": \"/opt/ml/input/data/validation\"\n",
      "\u001b[36malgo-1-rlkze_1  |\u001b[0m     },\n",
      "\u001b[36malgo-1-rlkze_1  |\u001b[0m     \"current_host\": \"algo-1-rlkze\",\n",
      "\u001b[36malgo-1-rlkze_1  |\u001b[0m     \"framework_module\": null,\n",
      "\u001b[36malgo-1-rlkze_1  |\u001b[0m     \"hosts\": [\n",
      "\u001b[36malgo-1-rlkze_1  |\u001b[0m         \"algo-1-rlkze\"\n",
      "\u001b[36malgo-1-rlkze_1  |\u001b[0m     ],\n",
      "\u001b[36malgo-1-rlkze_1  |\u001b[0m     \"hyperparameters\": {},\n",
      "\u001b[36malgo-1-rlkze_1  |\u001b[0m     \"input_config_dir\": \"/opt/ml/input/config\",\n",
      "\u001b[36malgo-1-rlkze_1  |\u001b[0m     \"input_data_config\": {\n",
      "\u001b[36malgo-1-rlkze_1  |\u001b[0m         \"train\": {\n",
      "\u001b[36malgo-1-rlkze_1  |\u001b[0m             \"TrainingInputMode\": \"File\"\n",
      "\u001b[36malgo-1-rlkze_1  |\u001b[0m         },\n",
      "\u001b[36malgo-1-rlkze_1  |\u001b[0m         \"validation\": {\n",
      "\u001b[36malgo-1-rlkze_1  |\u001b[0m             \"TrainingInputMode\": \"File\"\n",
      "\u001b[36malgo-1-rlkze_1  |\u001b[0m         }\n",
      "\u001b[36malgo-1-rlkze_1  |\u001b[0m     },\n",
      "\u001b[36malgo-1-rlkze_1  |\u001b[0m     \"input_dir\": \"/opt/ml/input\",\n",
      "\u001b[36malgo-1-rlkze_1  |\u001b[0m     \"is_master\": true,\n",
      "\u001b[36malgo-1-rlkze_1  |\u001b[0m     \"job_name\": \"script-mode-container-2020-09-15-07-44-55-245\",\n",
      "\u001b[36malgo-1-rlkze_1  |\u001b[0m     \"log_level\": 20,\n",
      "\u001b[36malgo-1-rlkze_1  |\u001b[0m     \"master_hostname\": \"algo-1-rlkze\",\n",
      "\u001b[36malgo-1-rlkze_1  |\u001b[0m     \"model_dir\": \"/opt/ml/model\",\n",
      "\u001b[36malgo-1-rlkze_1  |\u001b[0m     \"module_dir\": \"/opt/ml/code\",\n",
      "\u001b[36malgo-1-rlkze_1  |\u001b[0m     \"module_name\": \"train\",\n",
      "\u001b[36malgo-1-rlkze_1  |\u001b[0m     \"network_interface_name\": \"eth0\",\n",
      "\u001b[36malgo-1-rlkze_1  |\u001b[0m     \"num_cpus\": 2,\n",
      "\u001b[36malgo-1-rlkze_1  |\u001b[0m     \"num_gpus\": 0,\n",
      "\u001b[36malgo-1-rlkze_1  |\u001b[0m     \"output_data_dir\": \"/opt/ml/output/data\",\n",
      "\u001b[36malgo-1-rlkze_1  |\u001b[0m     \"output_dir\": \"/opt/ml/output\",\n",
      "\u001b[36malgo-1-rlkze_1  |\u001b[0m     \"output_intermediate_dir\": \"/opt/ml/output/intermediate\",\n",
      "\u001b[36malgo-1-rlkze_1  |\u001b[0m     \"resource_config\": {\n",
      "\u001b[36malgo-1-rlkze_1  |\u001b[0m         \"current_host\": \"algo-1-rlkze\",\n",
      "\u001b[36malgo-1-rlkze_1  |\u001b[0m         \"hosts\": [\n",
      "\u001b[36malgo-1-rlkze_1  |\u001b[0m             \"algo-1-rlkze\"\n",
      "\u001b[36malgo-1-rlkze_1  |\u001b[0m         ]\n",
      "\u001b[36malgo-1-rlkze_1  |\u001b[0m     },\n",
      "\u001b[36malgo-1-rlkze_1  |\u001b[0m     \"user_entry_point\": \"train.py\"\n",
      "\u001b[36malgo-1-rlkze_1  |\u001b[0m }\n",
      "\u001b[36malgo-1-rlkze_1  |\u001b[0m \n",
      "\u001b[36malgo-1-rlkze_1  |\u001b[0m Environment variables:\n",
      "\u001b[36malgo-1-rlkze_1  |\u001b[0m \n",
      "\u001b[36malgo-1-rlkze_1  |\u001b[0m SM_HOSTS=[\"algo-1-rlkze\"]\n",
      "\u001b[36malgo-1-rlkze_1  |\u001b[0m SM_NETWORK_INTERFACE_NAME=eth0\n",
      "\u001b[36malgo-1-rlkze_1  |\u001b[0m SM_HPS={}\n",
      "\u001b[36malgo-1-rlkze_1  |\u001b[0m SM_USER_ENTRY_POINT=train.py\n",
      "\u001b[36malgo-1-rlkze_1  |\u001b[0m SM_FRAMEWORK_PARAMS={}\n",
      "\u001b[36malgo-1-rlkze_1  |\u001b[0m SM_RESOURCE_CONFIG={\"current_host\":\"algo-1-rlkze\",\"hosts\":[\"algo-1-rlkze\"]}\n",
      "\u001b[36malgo-1-rlkze_1  |\u001b[0m SM_INPUT_DATA_CONFIG={\"train\":{\"TrainingInputMode\":\"File\"},\"validation\":{\"TrainingInputMode\":\"File\"}}\n",
      "\u001b[36malgo-1-rlkze_1  |\u001b[0m SM_OUTPUT_DATA_DIR=/opt/ml/output/data\n",
      "\u001b[36malgo-1-rlkze_1  |\u001b[0m SM_CHANNELS=[\"train\",\"validation\"]\n",
      "\u001b[36malgo-1-rlkze_1  |\u001b[0m SM_CURRENT_HOST=algo-1-rlkze\n",
      "\u001b[36malgo-1-rlkze_1  |\u001b[0m SM_MODULE_NAME=train\n",
      "\u001b[36malgo-1-rlkze_1  |\u001b[0m SM_LOG_LEVEL=20\n",
      "\u001b[36malgo-1-rlkze_1  |\u001b[0m SM_FRAMEWORK_MODULE=\n",
      "\u001b[36malgo-1-rlkze_1  |\u001b[0m SM_INPUT_DIR=/opt/ml/input\n",
      "\u001b[36malgo-1-rlkze_1  |\u001b[0m SM_INPUT_CONFIG_DIR=/opt/ml/input/config\n",
      "\u001b[36malgo-1-rlkze_1  |\u001b[0m SM_OUTPUT_DIR=/opt/ml/output\n",
      "\u001b[36malgo-1-rlkze_1  |\u001b[0m SM_NUM_CPUS=2\n",
      "\u001b[36malgo-1-rlkze_1  |\u001b[0m SM_NUM_GPUS=0\n",
      "\u001b[36malgo-1-rlkze_1  |\u001b[0m SM_MODEL_DIR=/opt/ml/model\n",
      "\u001b[36malgo-1-rlkze_1  |\u001b[0m SM_MODULE_DIR=/opt/ml/code\n",
      "\u001b[36malgo-1-rlkze_1  |\u001b[0m SM_TRAINING_ENV={\"additional_framework_parameters\":{},\"channel_input_dirs\":{\"train\":\"/opt/ml/input/data/train\",\"validation\":\"/opt/ml/input/data/validation\"},\"current_host\":\"algo-1-rlkze\",\"framework_module\":null,\"hosts\":[\"algo-1-rlkze\"],\"hyperparameters\":{},\"input_config_dir\":\"/opt/ml/input/config\",\"input_data_config\":{\"train\":{\"TrainingInputMode\":\"File\"},\"validation\":{\"TrainingInputMode\":\"File\"}},\"input_dir\":\"/opt/ml/input\",\"is_master\":true,\"job_name\":\"script-mode-container-2020-09-15-07-44-55-245\",\"log_level\":20,\"master_hostname\":\"algo-1-rlkze\",\"model_dir\":\"/opt/ml/model\",\"module_dir\":\"/opt/ml/code\",\"module_name\":\"train\",\"network_interface_name\":\"eth0\",\"num_cpus\":2,\"num_gpus\":0,\"output_data_dir\":\"/opt/ml/output/data\",\"output_dir\":\"/opt/ml/output\",\"output_intermediate_dir\":\"/opt/ml/output/intermediate\",\"resource_config\":{\"current_host\":\"algo-1-rlkze\",\"hosts\":[\"algo-1-rlkze\"]},\"user_entry_point\":\"train.py\"}\n",
      "\u001b[36malgo-1-rlkze_1  |\u001b[0m SM_USER_ARGS=[]\n",
      "\u001b[36malgo-1-rlkze_1  |\u001b[0m SM_OUTPUT_INTERMEDIATE_DIR=/opt/ml/output/intermediate\n",
      "\u001b[36malgo-1-rlkze_1  |\u001b[0m SM_CHANNEL_TRAIN=/opt/ml/input/data/train\n",
      "\u001b[36malgo-1-rlkze_1  |\u001b[0m SM_CHANNEL_VALIDATION=/opt/ml/input/data/validation\n",
      "\u001b[36malgo-1-rlkze_1  |\u001b[0m PYTHONPATH=/opt/ml/code:/usr/local/bin:/usr/lib/python36.zip:/usr/lib/python3.6:/usr/lib/python3.6/lib-dynload:/usr/local/lib/python3.6/dist-packages:/usr/lib/python3/dist-packages\n",
      "\u001b[36malgo-1-rlkze_1  |\u001b[0m \n",
      "\u001b[36malgo-1-rlkze_1  |\u001b[0m Invoking script with the following command:\n",
      "\u001b[36malgo-1-rlkze_1  |\u001b[0m \n",
      "\u001b[36malgo-1-rlkze_1  |\u001b[0m /usr/bin/python3 train.py\n",
      "\u001b[36malgo-1-rlkze_1  |\u001b[0m \n",
      "\u001b[36malgo-1-rlkze_1  |\u001b[0m \n",
      "\u001b[36malgo-1-rlkze_1  |\u001b[0m Starting the first step\n",
      "\u001b[36malgo-1-rlkze_1  |\u001b[0m Training complete.\n",
      "\u001b[36malgo-1-rlkze_1  |\u001b[0m 2020-09-15 07:46:30,491 sagemaker-training-toolkit INFO     Reporting training SUCCESS\n",
      "\u001b[36mtmpdyqp_l3t_algo-1-rlkze_1 exited with code 0\n",
      "\u001b[0mAborting on container exit...\n",
      "===== Job Complete =====\n"
     ]
    }
   ],
   "source": [
    "import sagemaker\n",
    "import json\n",
    "\n",
    "# JSON encode hyperparameters\n",
    "\n",
    "est = sagemaker.estimator.Estimator(container_image_uri,\n",
    "                                    role, \n",
    "                                    train_instance_count=1, \n",
    "                                    train_instance_type='local', # we use local mode\n",
    "                                    #train_instance_type='ml.m5.xlarge',\n",
    "                                    base_job_name=prefix,\n",
    "                                    output_path='s3://sagemaker-test-raghavbps/script-mode-container/')\n",
    "\n",
    "train_config = sagemaker.session.s3_input('s3://{0}/{1}/train/'.format(bucket, prefix))\n",
    "val_config = sagemaker.session.s3_input('s3://{0}/{1}/val/'.format(bucket, prefix))\n",
    "\n",
    "est.fit({'train': train_config, 'validation': val_config })"
   ]
  },
  {
   "cell_type": "code",
   "execution_count": null,
   "metadata": {},
   "outputs": [],
   "source": []
  }
 ],
 "metadata": {
  "kernelspec": {
   "display_name": "conda_tensorflow2_p36",
   "language": "python",
   "name": "conda_tensorflow2_p36"
  },
  "language_info": {
   "codemirror_mode": {
    "name": "ipython",
    "version": 3
   },
   "file_extension": ".py",
   "mimetype": "text/x-python",
   "name": "python",
   "nbconvert_exporter": "python",
   "pygments_lexer": "ipython3",
   "version": "3.6.10"
  }
 },
 "nbformat": 4,
 "nbformat_minor": 4
}
